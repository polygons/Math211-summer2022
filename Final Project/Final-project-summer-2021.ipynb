{
 "cells": [
  {
   "cell_type": "markdown",
   "id": "6a2c4a2e",
   "metadata": {},
   "source": [
    "## Final Project – Math 211 – Introduction to Data Science – Summer 2021\n",
    "\n",
    "\n"
   ]
  },
  {
   "cell_type": "markdown",
   "id": "20ffb0f0",
   "metadata": {},
   "source": [
    "![alt text](http://skylinedatascience.org/images/Skyline-Data-Science-logo-2.png)"
   ]
  },
  {
   "cell_type": "markdown",
   "id": "1b878b19",
   "metadata": {},
   "source": [
    "## Project: Investigate Covid-19 Dataset (Replace this with something more specific!)"
   ]
  },
  {
   "cell_type": "markdown",
   "id": "9b242ba5",
   "metadata": {},
   "source": [
    "<b>NOTE:</b> Make sure that you keep your reader informed on the steps that you are taking in your investigation. Follow every code cell, or every set of related code cells, with a markdown cell to describe to the reader what was found in the preceding cell(s). Try to make it so that the reader can then understand what they will be seeing in the following cell(s)."
   ]
  },
  {
   "cell_type": "markdown",
   "id": "adc56d6e",
   "metadata": {},
   "source": [
    "## Introduction\n",
    "<b>NOTE:</b> In this section of the report, provide a brief introduction to the dataset you've selected for analysis. At the end of this section, describe the questions that you plan on exploring over the course of the report. Try to build your report around the analysis of at least one dependent variable and two independent variables. \n"
   ]
  },
  {
   "cell_type": "code",
   "execution_count": 1,
   "id": "822d7cf3",
   "metadata": {},
   "outputs": [],
   "source": [
    " #Use this cell to set up import statements for all of the packages that you plan to use.\n"
   ]
  },
  {
   "cell_type": "markdown",
   "id": "e0369e48",
   "metadata": {},
   "source": [
    "## Data Wrangling\n",
    "<b>NOTE:</b> In this section of the report, you will load in the data, check for cleanliness, and then trim and clean your dataset for analysis. Make sure that you document your steps carefully and justify your cleaning decisions."
   ]
  },
  {
   "cell_type": "code",
   "execution_count": null,
   "id": "a6ee2d63",
   "metadata": {},
   "outputs": [],
   "source": [
    "#import your dataset here, https://ourworldindata.org/covid-cases\n",
    "#example: table_data = Table.read_table(\"https://covid.ourworldindata.org/data/owid-covid-data.csv\") \n",
    "# or as datafrme df = pd.read_csv(\"https://covid.ourworldindata.org/data/owid-covid-data.csv\")   \n",
    "\n",
    "\n"
   ]
  },
  {
   "cell_type": "code",
   "execution_count": null,
   "id": "7b7bfed3",
   "metadata": {},
   "outputs": [],
   "source": []
  },
  {
   "cell_type": "markdown",
   "id": "14967062",
   "metadata": {},
   "source": [
    "## Exploratory Data Analysis\n",
    "<b>NOTE:</b> Now that you've trimmed and cleaned your data, you're ready to move on to exploration. Compute statistics and create visualizations with the goal of addressing the research questions that you posed in the Introduction section. It is recommended that you be systematic with your approach. Look at one variable at a time, and then follow it up by looking at relationships between variables."
   ]
  },
  {
   "cell_type": "code",
   "execution_count": null,
   "id": "277ee9fa",
   "metadata": {},
   "outputs": [],
   "source": []
  },
  {
   "cell_type": "markdown",
   "id": "96232226",
   "metadata": {},
   "source": [
    "### Research Question 1 (Replace this header with your question!)"
   ]
  },
  {
   "cell_type": "code",
   "execution_count": 5,
   "id": "45801817",
   "metadata": {},
   "outputs": [],
   "source": [
    "# Use this, and more code cells, to explore your data. Don't forget to add\n",
    "#   Markdown cells to document your observations and findings."
   ]
  },
  {
   "cell_type": "markdown",
   "id": "1e2aa2b2",
   "metadata": {},
   "source": [
    "### Research Question 2 (Replace this header with your question!)"
   ]
  },
  {
   "cell_type": "code",
   "execution_count": 6,
   "id": "7eb653c4",
   "metadata": {},
   "outputs": [],
   "source": [
    "# Continue to explore the data to address your additional research questions. \n",
    "#  Add more headers as needed if you have more questions to investigate."
   ]
  },
  {
   "cell_type": "markdown",
   "id": "1fa816ca",
   "metadata": {},
   "source": [
    "### Conclusions\n",
    "<b>NOTE:</b> Finally, summarize your findings and the results that have been performed. Make sure that you are clear with regards to the limitations of your exploration. If you haven't done any statistical tests, do not imply any statistical conclusions. And make sure you avoid implying causation from correlation!\n",
    "\n",
    "<b>NOTE:</b> Once you are satisfied with your work, you should save a copy of the report in HTML or PDF form for uploading to canvas by July 29 at 11:59 PM. Before exporting your report, check over it to make sure that the flow of the report is complete. You should probably remove all of the \"NOTE\" quotes like this one so that the presentation is as tidy as possible. "
   ]
  },
  {
   "cell_type": "code",
   "execution_count": null,
   "id": "0e81f2f8",
   "metadata": {},
   "outputs": [],
   "source": []
  }
 ],
 "metadata": {
  "kernelspec": {
   "display_name": "Python 3",
   "language": "python",
   "name": "python3"
  },
  "language_info": {
   "codemirror_mode": {
    "name": "ipython",
    "version": 3
   },
   "file_extension": ".py",
   "mimetype": "text/x-python",
   "name": "python",
   "nbconvert_exporter": "python",
   "pygments_lexer": "ipython3",
   "version": "3.7.8"
  }
 },
 "nbformat": 4,
 "nbformat_minor": 5
}
